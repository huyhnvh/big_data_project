{
 "cells": [
  {
   "cell_type": "code",
   "execution_count": 24,
   "metadata": {},
   "outputs": [
    {
     "data": {
      "text/plain": [
       "{'cate_id': '111',\n",
       " 'cate_name': 'Bên lề Thể thao',\n",
       " 'text': 'Nền bóng đá Việt Nam đang càng ngày càng phát triển'}"
      ]
     },
     "execution_count": 24,
     "metadata": {},
     "output_type": "execute_result"
    }
   ],
   "source": [
    "import requests\n",
    "from pyvi import ViTokenizer\n",
    "text = \"Nền bóng đá Việt Nam đang càng ngày càng phát triển\"\n",
    "re = requests.post(\"http://localhost:8000/TextClassification\", data={\"text\":text})\n",
    "re.json()['data']"
   ]
  }
 ],
 "metadata": {
  "kernelspec": {
   "display_name": "Python 3",
   "language": "python",
   "name": "python3"
  },
  "language_info": {
   "codemirror_mode": {
    "name": "ipython",
    "version": 3
   },
   "file_extension": ".py",
   "mimetype": "text/x-python",
   "name": "python",
   "nbconvert_exporter": "python",
   "pygments_lexer": "ipython3",
   "version": "3.7.7"
  }
 },
 "nbformat": 4,
 "nbformat_minor": 4
}
