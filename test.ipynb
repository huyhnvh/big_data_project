{
 "cells": [
  {
   "cell_type": "code",
   "execution_count": 39,
   "metadata": {},
   "outputs": [
    {
     "data": {
      "text/plain": [
       "4"
      ]
     },
     "execution_count": 39,
     "metadata": {},
     "output_type": "execute_result"
    }
   ],
   "source": [
    "import requests\n",
    "from pyvi import ViTokenizer\n",
    "text = \"Chính phủ đang trên đà phát triển#$Bóng đá\"\n",
    "num = \"1#$2\"\n",
    "re = requests.post(\"http://localhost:8000/TextClassification\", data={\"text\":text, 'id':num})\n",
    "re.json()['size']"
   ]
  },
  {
   "cell_type": "code",
   "execution_count": 26,
   "metadata": {},
   "outputs": [
    {
     "name": "stdout",
     "output_type": "stream",
     "text": [
      "+----------+-------------+-------------------+-------+---------+------------------+------------------+--------+-----------+--------------------+------+---------+------------+-----------+-----------------+--------------------+-------+--------------------+----------+--------+-------------+---------------+------+-----+-----+-----+--------------------+-----------------+-----------------+--------------------+-------+-------+-------------+-------+-------+--------+-------+\n",
      "|serverTime|   clientTime|                 dt|eventId|isVirtual|            postId|            itemId|cardType|contentType|               extra|osType|osVersion|manufacturer|deviceModel|deviceBuildNumber|            deviceId|carrier|               appId|appVersion|language|networkStatus|             ip|pageId|boxId|tagId|catId|             videoId|           userId|      userIdOwner|           requestId|referer|logType|   pageLoadId|groupId|boardId|provider|  boost|\n",
      "+----------+-------------+-------------------+-------+---------+------------------+------------------+--------+-----------+--------------------+------+---------+------------+-----------+-----------------+--------------------+-------+--------------------+----------+--------+-------------+---------------+------+-----+-----+-----+--------------------+-----------------+-----------------+--------------------+-------+-------+-------------+-------+-------+--------+-------+\n",
      "|1593594557|1593594557004|2020-07-01 16:09:17|   1001|        0|                  |                  |      -1|         -1|                    |    -1|         |            |           |                 |6B25BE7D-E72D-496...|       |  com.vcc.tmdtkenh14|          |        |             |113.178.204.104|  1001|     |     |     |kenh14/2020/7/1/v...|                 |               -1|01EC4T6CXBNHJK6QR...|       |      0|            0|     -1|     -1|      -1|     -1|\n",
      "|1593594557|1593594554046|2020-07-01 16:09:14|      3|        0|                  | 20200701151013709|      -1|         -1|          6,1.664923|    -1|         |            |           |                 |B845F92B-84C4-411...|       |  com.vcc.tmdtkenh14|          |        |             |171.224.203.153|    -1|     |     |     |                    |                 |               -1|01EC4T6CYBVVE98D2...|       |      0|            0|     -1|     -1|      -1|     -1|\n",
      "|1593594556|1593594556902|2020-07-01 16:09:16|     14|        0|726088426249129984|                  |      20|         -1|{\"time_view\":\"3\",...|    -1|         |            |           |                 |    43bf0420010b549b|       |com.vivavietnam.l...|       1.0|        |             |  115.73.214.48| 10001|   30|     |   20|                    |18570199755244496|31803643451767892|01EC4T6C5G1XJ0WX3...|       |      1|1593594545923|       |       |      -1|     -1|\n",
      "|1593594557|1593594549544|2020-07-01 16:09:09|      6|        0|                  | 20200701094139271|      -1|         -1|                    |    -1|         |            |           |                 |00000000-0000-000...|       |  com.vcc.tmdtkenh14|          |        |             |   27.71.89.219|    -1|     |     |     |                    |                 |               -1|01EC4T6D05Z4Q70QJ...|       |      0|            0|     -1|     -1|      -1|     -1|\n",
      "|1593594557|1593594557350|2020-07-01 16:09:17|      3|        0|                  | 20200625185445723|      -1|         -1|          3,2.432546|    -1|         |            |           |                 |3A00FD21-DBD7-4BB...|       |  com.vcc.tmdtkenh14|          |        |             |   36.38.40.199|    -1|     |     |     |                    |                 |               -1|01EC4T6D1313NS37M...|       |      0|            0|     -1|     -1|      -1|     -1|\n",
      "|1593594557|1593594551296|2020-07-01 16:09:11|   1001|        0|                  |                  |      -1|         -1|                    |    -1|         |            |           |                 |D93A6564-9E62-46F...|       |  com.vcc.tmdtkenh14|          |        |             |  14.165.118.43|  1001|     |     |     |kenh14/2020/7/1/n...|                 |               -1|01EC4T6D1F369D2P3...|       |      0|            0|     -1|     -1|      -1|     -1|\n",
      "|1593594557|1593594554344|2020-07-01 16:09:14|   2009|        0|                  |727833717175902208|      -1|         -1|{\"notificationID\"...|    -1|         |            |           |                 |DD09D682-2292-428...|       |     com.vcc.newpega|          |        |             |  171.255.76.79| 10006|     |     |     |                    |                 |               -1|01EC4T6D5MC5MCAT6...|       |      1|            0|     -1|     -1|      -1|     -1|\n",
      "|1593594557|1593594556412|2020-07-01 16:09:16|     22|        0|726204111042752512|                  |      12|         -1|               30, 0|    -1|         |            |           |                 |01BBC627-74B7-4D0...|       |com.viva.vivavietnam|          |        |             | 118.71.203.223| 10001|   30|     |   12|                    |18583637411613863|18862892744848698|01EC4T6CSJ8GEJXRW...|       |      1|1593594556400|     -1|       |      -1|{\"\":\"\"}|\n",
      "|1593594557|1593594552305|2020-07-01 16:09:12|      3|        0|                  | 20200701101802816|      -1|         -1|          5,0.578550|    -1|         |            |           |                 |2B14D65A-E3E6-4BC...|       |  com.vcc.tmdtkenh14|          |        |             |  87.115.91.122|    -1|     |     |     |                    |                 |               -1|01EC4T6D83TDWAQHV...|       |      0|            0|     -1|     -1|      -1|     -1|\n",
      "|1593594557|1593594557545|2020-07-01 16:09:17|     27|        0|                  |680081275299282944|      -1|         -1|{\"boxIndex\":\"-1\",...|    -1|         |            |           |                 |27C514C3-EE5B-459...|       |com.viva.vivavietnam|          |        |             | 123.30.170.238| 10001|     |     |     |                    |42246066720910543|               -1|01EC4T6D5H6KJXB1W...|       |      1|1593594120330|     -1|     -1|      -1|     -1|\n",
      "|1593594557|1593594555833|2020-07-01 16:09:15|      4|        0|                  | 20200701111529026|      -1|         -1|                    |    -1|         |            |           |                 |    5f6a9edfca2ddd79|       |vcc.mobilenewsrea...|          |        |             | 42.112.224.129|    -1|     |     |     |                    |                 |               -1|01EC4T6DFYDWVXBTD...|       |      0|            0|     -1|     -1|      -1|     -1|\n",
      "|1593594557|1593594549356|2020-07-01 16:09:09|      7|        0|                  |                  |      -1|         -1|                    |    -1|         |            |           |                 |0A14A96F-80AE-44E...|       |  com.vcc.tmdtkenh14|          |        |             |  84.42.173.189|  1001|     |     |     |                    |                 |               -1|01EC4T6DHHH8DYGXJ...|       |      0|            0|     -1|     -1|      -1|     -1|\n",
      "|1593594558|1593594553663|2020-07-01 16:09:13|      4|        0|                  |          14739493|      -1|         -1|                    |    -1|         |            |           |                 |5F77481C-140B-4D4...|       |        com.vcc.pega|          |        |             |  27.66.140.181|    -1|     |     |     |                    |                 |               -1|01EC4T6DM0ED6KHF1...|       |      0|            0|     -1|     -1|      -1|     -1|\n",
      "|1593594558|1593594555893|2020-07-01 16:09:15|      6|        0|                  | 20200630140706922|      -1|         -1|                    |    -1|         |            |           |                 |87BD2019-9C91-478...|       |  com.vcc.tmdtkenh14|          |        |             |     27.3.8.121|    -1|     |     |     |                    |                 |               -1|01EC4T6DMPVYTK5SR...|       |      0|            0|     -1|     -1|      -1|     -1|\n",
      "|1593594558|1593594555106|2020-07-01 16:09:15|      3|        0|                  | 20200629170936298|      -1|         -1|                 1,3|    -1|         |            |           |                 |    802ac7f3ff06b853|       |vcc.mobilenewsrea...|          |        |             |  113.185.75.68|    -1|     |     |     |                    |                 |               -1|01EC4T6DPCFFV2645...|       |      0|            0|     -1|     -1|      -1|     -1|\n",
      "|1593594558|1593594557461|2020-07-01 16:09:17|   1005|        0|                  |                  |      -1|         -1|                    |    -1|         |            |           |                 |00000000-0000-000...|       |  com.vcc.tmdtkenh14|          |        |             |113.190.103.168|  1001|     |     |     |kenh14/2020/7/1/n...|                 |               -1|01EC4T6DT3JPPR9FZ...|       |      0|            0|     -1|     -1|      -1|     -1|\n",
      "|1593594558|1593594556956|2020-07-01 16:09:16|      5|        0|                  |                  |      -1|         -1|                    |    -1|         |            |           |                 |D4A27ED9-5F7D-47E...|       |  com.vcc.tmdtkenh14|          |        |             |  42.118.176.54|  1001|     |     |     |                    |                 |               -1|01EC4T6DVHAFN950S...|       |      0|            0|     -1|     -1|      -1|     -1|\n",
      "|1593594558|1593436626148|2020-06-29 20:17:06|     11|        0|                  |                  |      -1|         -1|                    |    -1|         |            |           |                 |259A12BB-A475-4E1...|       |  com.vcc.tmdtkenh14|          |        |             |  42.116.52.226|    -1|     |     |     |                    |                 |               -1|01EC4T6DVVVCCYPZ2...|       |      0|            0|     -1|     -1|      -1|     -1|\n",
      "|1593594558|1593594592448|2020-07-01 16:09:52|      3|        0|                  | 20200630203431599|      -1|         -1|          2,0.098038|    -1|         |            |           |                 |35618A1D-7ABE-40C...|       |  com.vcc.tmdtkenh14|          |        |             | 118.71.135.208|    -1|     |     |     |                    |                 |               -1|01EC4T6DX9VXVERT8...|       |      0|            0|     -1|     -1|      -1|     -1|\n",
      "|1593594558|1593594556717|2020-07-01 16:09:16|   2009|        0|                  |                  |      -1|         -1|{\"type\":0,\"notifi...|     1|         |            |           |                 |    d59350d083984179|       |     com.vcc.newpega|          |        |             |  125.214.48.52|    -1|     |     |     |                    |                 |               -1|01EC4T6DX3FT7X7KN...|       |      1|            0|     -1|     -1|      -1|     -1|\n",
      "+----------+-------------+-------------------+-------+---------+------------------+------------------+--------+-----------+--------------------+------+---------+------------+-----------+-----------------+--------------------+-------+--------------------+----------+--------+-------------+---------------+------+-----+-----+-----+--------------------+-----------------+-----------------+--------------------+-------+-------+-------------+-------+-------+--------+-------+\n",
      "only showing top 20 rows\n",
      "\n"
     ]
    }
   ],
   "source": [
    "from pyspark.context import SparkContext\n",
    "from pyspark.sql.session import SparkSession\n",
    "spark = SparkSession.Builder() \\\n",
    "     .appName(\"articles\") \\\n",
    "     .getOrCreate()\n",
    "static = spark.read.parquet(\"hdfs://10.3.71.86:8020/Data/Logging/kinghub/app/2020-07-01\")\n",
    "dataSchema = static.schema\n",
    "static.show()"
   ]
  },
  {
   "cell_type": "code",
   "execution_count": null,
   "metadata": {},
   "outputs": [],
   "source": []
  },
  {
   "cell_type": "code",
   "execution_count": 27,
   "metadata": {},
   "outputs": [
    {
     "name": "stdout",
     "output_type": "stream",
     "text": [
      "root\n",
      " |-- serverTime: long (nullable = true)\n",
      " |-- clientTime: long (nullable = true)\n",
      " |-- dt: string (nullable = true)\n",
      " |-- eventId: integer (nullable = true)\n",
      " |-- isVirtual: integer (nullable = true)\n",
      " |-- postId: string (nullable = true)\n",
      " |-- itemId: string (nullable = true)\n",
      " |-- cardType: integer (nullable = true)\n",
      " |-- contentType: integer (nullable = true)\n",
      " |-- extra: string (nullable = true)\n",
      " |-- osType: integer (nullable = true)\n",
      " |-- osVersion: string (nullable = true)\n",
      " |-- manufacturer: string (nullable = true)\n",
      " |-- deviceModel: string (nullable = true)\n",
      " |-- deviceBuildNumber: string (nullable = true)\n",
      " |-- deviceId: string (nullable = true)\n",
      " |-- carrier: string (nullable = true)\n",
      " |-- appId: string (nullable = true)\n",
      " |-- appVersion: string (nullable = true)\n",
      " |-- language: string (nullable = true)\n",
      " |-- networkStatus: string (nullable = true)\n",
      " |-- ip: string (nullable = true)\n",
      " |-- pageId: long (nullable = true)\n",
      " |-- boxId: string (nullable = true)\n",
      " |-- tagId: string (nullable = true)\n",
      " |-- catId: string (nullable = true)\n",
      " |-- videoId: string (nullable = true)\n",
      " |-- userId: string (nullable = true)\n",
      " |-- userIdOwner: string (nullable = true)\n",
      " |-- requestId: string (nullable = true)\n",
      " |-- referer: string (nullable = true)\n",
      " |-- logType: integer (nullable = true)\n",
      " |-- pageLoadId: long (nullable = true)\n",
      " |-- groupId: string (nullable = true)\n",
      " |-- boardId: string (nullable = true)\n",
      " |-- provider: string (nullable = true)\n",
      " |-- boost: string (nullable = true)\n",
      "\n"
     ]
    }
   ],
   "source": [
    "static.printSchema()"
   ]
  },
  {
   "cell_type": "code",
   "execution_count": 28,
   "metadata": {},
   "outputs": [],
   "source": [
    "streaming = spark.readStream.schema(dataSchema).option(\"maxFilesPerTrigger\", 100)\\\n",
    ".parquet(\"hdfs://10.3.71.86:8020/Data/Logging/kinghub/app/2020-07-01\")"
   ]
  },
  {
   "cell_type": "code",
   "execution_count": 41,
   "metadata": {},
   "outputs": [],
   "source": [
    "activityCounts = streaming.\n",
    "# activityCounts = streaming"
   ]
  },
  {
   "cell_type": "code",
   "execution_count": 40,
   "metadata": {},
   "outputs": [
    {
     "data": {
      "text/plain": [
       "pyspark.sql.dataframe.DataFrame"
      ]
     },
     "execution_count": 40,
     "metadata": {},
     "output_type": "execute_result"
    }
   ],
   "source": [
    "type(streaming)"
   ]
  },
  {
   "cell_type": "code",
   "execution_count": 42,
   "metadata": {},
   "outputs": [],
   "source": [
    "spark.conf.set(\"spark.sql.shuffle.partitions\", 5)"
   ]
  },
  {
   "cell_type": "code",
   "execution_count": 43,
   "metadata": {},
   "outputs": [
    {
     "ename": "AnalysisException",
     "evalue": "Complete output mode not supported when there are no streaming aggregations on streaming DataFrames/Datasets;;\nFileSource[hdfs://10.3.71.86:8020/Data/Logging/kinghub/app/2020-07-01]",
     "output_type": "error",
     "traceback": [
      "\u001b[0;31m---------------------------------------------------------------------------\u001b[0m",
      "\u001b[0;31mAnalysisException\u001b[0m                         Traceback (most recent call last)",
      "\u001b[0;32m<ipython-input-43-823df889ba07>\u001b[0m in \u001b[0;36m<module>\u001b[0;34m()\u001b[0m\n\u001b[0;32m----> 1\u001b[0;31m \u001b[0mactivityQuery\u001b[0m \u001b[0;34m=\u001b[0m \u001b[0mactivityCounts\u001b[0m\u001b[0;34m.\u001b[0m\u001b[0mwriteStream\u001b[0m\u001b[0;34m.\u001b[0m\u001b[0mqueryName\u001b[0m\u001b[0;34m(\u001b[0m\u001b[0;34m\"label_counts\"\u001b[0m\u001b[0;34m)\u001b[0m\u001b[0;34m.\u001b[0m\u001b[0mformat\u001b[0m\u001b[0;34m(\u001b[0m\u001b[0;34m\"memory\"\u001b[0m\u001b[0;34m)\u001b[0m\u001b[0;34m.\u001b[0m\u001b[0moutputMode\u001b[0m\u001b[0;34m(\u001b[0m\u001b[0;34m\"complete\"\u001b[0m\u001b[0;34m)\u001b[0m\u001b[0;34m.\u001b[0m\u001b[0mstart\u001b[0m\u001b[0;34m(\u001b[0m\u001b[0;34m)\u001b[0m\u001b[0;34m\u001b[0m\u001b[0;34m\u001b[0m\u001b[0m\n\u001b[0m\u001b[1;32m      2\u001b[0m \u001b[0;31m# activityQuery.show()\u001b[0m\u001b[0;34m\u001b[0m\u001b[0;34m\u001b[0m\u001b[0;34m\u001b[0m\u001b[0m\n",
      "\u001b[0;32m/data/huynv1/anaconda3/envs/conda_python_venv/lib/python3.7/site-packages/pyspark/sql/streaming.py\u001b[0m in \u001b[0;36mstart\u001b[0;34m(self, path, format, outputMode, partitionBy, queryName, **options)\u001b[0m\n\u001b[1;32m   1209\u001b[0m             \u001b[0mself\u001b[0m\u001b[0;34m.\u001b[0m\u001b[0mqueryName\u001b[0m\u001b[0;34m(\u001b[0m\u001b[0mqueryName\u001b[0m\u001b[0;34m)\u001b[0m\u001b[0;34m\u001b[0m\u001b[0;34m\u001b[0m\u001b[0m\n\u001b[1;32m   1210\u001b[0m         \u001b[0;32mif\u001b[0m \u001b[0mpath\u001b[0m \u001b[0;32mis\u001b[0m \u001b[0;32mNone\u001b[0m\u001b[0;34m:\u001b[0m\u001b[0;34m\u001b[0m\u001b[0;34m\u001b[0m\u001b[0m\n\u001b[0;32m-> 1211\u001b[0;31m             \u001b[0;32mreturn\u001b[0m \u001b[0mself\u001b[0m\u001b[0;34m.\u001b[0m\u001b[0m_sq\u001b[0m\u001b[0;34m(\u001b[0m\u001b[0mself\u001b[0m\u001b[0;34m.\u001b[0m\u001b[0m_jwrite\u001b[0m\u001b[0;34m.\u001b[0m\u001b[0mstart\u001b[0m\u001b[0;34m(\u001b[0m\u001b[0;34m)\u001b[0m\u001b[0;34m)\u001b[0m\u001b[0;34m\u001b[0m\u001b[0;34m\u001b[0m\u001b[0m\n\u001b[0m\u001b[1;32m   1212\u001b[0m         \u001b[0;32melse\u001b[0m\u001b[0;34m:\u001b[0m\u001b[0;34m\u001b[0m\u001b[0;34m\u001b[0m\u001b[0m\n\u001b[1;32m   1213\u001b[0m             \u001b[0;32mreturn\u001b[0m \u001b[0mself\u001b[0m\u001b[0;34m.\u001b[0m\u001b[0m_sq\u001b[0m\u001b[0;34m(\u001b[0m\u001b[0mself\u001b[0m\u001b[0;34m.\u001b[0m\u001b[0m_jwrite\u001b[0m\u001b[0;34m.\u001b[0m\u001b[0mstart\u001b[0m\u001b[0;34m(\u001b[0m\u001b[0mpath\u001b[0m\u001b[0;34m)\u001b[0m\u001b[0;34m)\u001b[0m\u001b[0;34m\u001b[0m\u001b[0;34m\u001b[0m\u001b[0m\n",
      "\u001b[0;32m/data/huynv1/anaconda3/envs/conda_python_venv/lib/python3.7/site-packages/py4j/java_gateway.py\u001b[0m in \u001b[0;36m__call__\u001b[0;34m(self, *args)\u001b[0m\n\u001b[1;32m   1303\u001b[0m         \u001b[0manswer\u001b[0m \u001b[0;34m=\u001b[0m \u001b[0mself\u001b[0m\u001b[0;34m.\u001b[0m\u001b[0mgateway_client\u001b[0m\u001b[0;34m.\u001b[0m\u001b[0msend_command\u001b[0m\u001b[0;34m(\u001b[0m\u001b[0mcommand\u001b[0m\u001b[0;34m)\u001b[0m\u001b[0;34m\u001b[0m\u001b[0;34m\u001b[0m\u001b[0m\n\u001b[1;32m   1304\u001b[0m         return_value = get_return_value(\n\u001b[0;32m-> 1305\u001b[0;31m             answer, self.gateway_client, self.target_id, self.name)\n\u001b[0m\u001b[1;32m   1306\u001b[0m \u001b[0;34m\u001b[0m\u001b[0m\n\u001b[1;32m   1307\u001b[0m         \u001b[0;32mfor\u001b[0m \u001b[0mtemp_arg\u001b[0m \u001b[0;32min\u001b[0m \u001b[0mtemp_args\u001b[0m\u001b[0;34m:\u001b[0m\u001b[0;34m\u001b[0m\u001b[0;34m\u001b[0m\u001b[0m\n",
      "\u001b[0;32m/data/huynv1/anaconda3/envs/conda_python_venv/lib/python3.7/site-packages/pyspark/sql/utils.py\u001b[0m in \u001b[0;36mdeco\u001b[0;34m(*a, **kw)\u001b[0m\n\u001b[1;32m    132\u001b[0m                 \u001b[0;31m# Hide where the exception came from that shows a non-Pythonic\u001b[0m\u001b[0;34m\u001b[0m\u001b[0;34m\u001b[0m\u001b[0;34m\u001b[0m\u001b[0m\n\u001b[1;32m    133\u001b[0m                 \u001b[0;31m# JVM exception message.\u001b[0m\u001b[0;34m\u001b[0m\u001b[0;34m\u001b[0m\u001b[0;34m\u001b[0m\u001b[0m\n\u001b[0;32m--> 134\u001b[0;31m                 \u001b[0mraise_from\u001b[0m\u001b[0;34m(\u001b[0m\u001b[0mconverted\u001b[0m\u001b[0;34m)\u001b[0m\u001b[0;34m\u001b[0m\u001b[0;34m\u001b[0m\u001b[0m\n\u001b[0m\u001b[1;32m    135\u001b[0m             \u001b[0;32melse\u001b[0m\u001b[0;34m:\u001b[0m\u001b[0;34m\u001b[0m\u001b[0;34m\u001b[0m\u001b[0m\n\u001b[1;32m    136\u001b[0m                 \u001b[0;32mraise\u001b[0m\u001b[0;34m\u001b[0m\u001b[0;34m\u001b[0m\u001b[0m\n",
      "\u001b[0;32m/data/huynv1/anaconda3/envs/conda_python_venv/lib/python3.7/site-packages/pyspark/sql/utils.py\u001b[0m in \u001b[0;36mraise_from\u001b[0;34m(e)\u001b[0m\n",
      "\u001b[0;31mAnalysisException\u001b[0m: Complete output mode not supported when there are no streaming aggregations on streaming DataFrames/Datasets;;\nFileSource[hdfs://10.3.71.86:8020/Data/Logging/kinghub/app/2020-07-01]"
     ]
    }
   ],
   "source": [
    "activityQuery = activityCounts.writeStream.queryName(\"label_counts\")\\\n",
    ".format(\"memory\").outputMode(\"complete\")\\\n",
    ".start()\n",
    "# activityQuery.show()"
   ]
  },
  {
   "cell_type": "code",
   "execution_count": 36,
   "metadata": {},
   "outputs": [
    {
     "data": {
      "text/plain": [
       "False"
      ]
     },
     "execution_count": 36,
     "metadata": {},
     "output_type": "execute_result"
    }
   ],
   "source": [
    "activityQuery.awaitTermination(timeout=1)"
   ]
  },
  {
   "cell_type": "code",
   "execution_count": 37,
   "metadata": {},
   "outputs": [
    {
     "data": {
      "text/plain": [
       "[<pyspark.sql.streaming.StreamingQuery at 0x7f7828557490>,\n",
       " <pyspark.sql.streaming.StreamingQuery at 0x7f7828536ad0>]"
      ]
     },
     "execution_count": 37,
     "metadata": {},
     "output_type": "execute_result"
    }
   ],
   "source": [
    "list(spark.streams.active)"
   ]
  },
  {
   "cell_type": "code",
   "execution_count": 38,
   "metadata": {},
   "outputs": [
    {
     "name": "stdout",
     "output_type": "stream",
     "text": [
      "+--------------------+-----+\n",
      "|              itemId|count|\n",
      "+--------------------+-----+\n",
      "|https://m.kenh14....|   11|\n",
      "|  727923377931706369|   12|\n",
      "|https://beta.m.da...|    1|\n",
      "|   20200630090617764|   44|\n",
      "|https://m.afamily...|   14|\n",
      "|https://m.afamily...|    1|\n",
      "|https://danviet.v...|    2|\n",
      "|https://tuoitre.v...|  354|\n",
      "|  727928541317062660|   14|\n",
      "|https://vietnamne...|    1|\n",
      "|https://m.afamily...|    1|\n",
      "|https://thanhnien...|    2|\n",
      "|https://m.afamily...|    2|\n",
      "|https://afamily.v...|    8|\n",
      "|   20200622092043829|   31|\n",
      "|  727855681089200128|   29|\n",
      "|https://click.adv...|    2|\n",
      "|   20190415191244359|  892|\n",
      "|https://m.afamily...|    2|\n",
      "|https://m.afamily...|    1|\n",
      "+--------------------+-----+\n",
      "only showing top 20 rows\n",
      "\n"
     ]
    },
    {
     "ename": "KeyboardInterrupt",
     "evalue": "",
     "output_type": "error",
     "traceback": [
      "\u001b[0;31m---------------------------------------------------------------------------\u001b[0m",
      "\u001b[0;31mKeyboardInterrupt\u001b[0m                         Traceback (most recent call last)",
      "\u001b[0;32m<ipython-input-38-26dc893c2dda>\u001b[0m in \u001b[0;36m<module>\u001b[0;34m()\u001b[0m\n\u001b[1;32m      4\u001b[0m \u001b[0;34m\u001b[0m\u001b[0m\n\u001b[1;32m      5\u001b[0m     \u001b[0mspark\u001b[0m\u001b[0;34m.\u001b[0m\u001b[0msql\u001b[0m\u001b[0;34m(\u001b[0m\u001b[0;34m\"SELECT * FROM label_counts\"\u001b[0m\u001b[0;34m)\u001b[0m\u001b[0;34m.\u001b[0m\u001b[0mshow\u001b[0m\u001b[0;34m(\u001b[0m\u001b[0;34m)\u001b[0m\u001b[0;34m\u001b[0m\u001b[0;34m\u001b[0m\u001b[0m\n\u001b[0;32m----> 6\u001b[0;31m     \u001b[0msleep\u001b[0m\u001b[0;34m(\u001b[0m\u001b[0;36m1000\u001b[0m\u001b[0;34m)\u001b[0m\u001b[0;34m\u001b[0m\u001b[0;34m\u001b[0m\u001b[0m\n\u001b[0m",
      "\u001b[0;31mKeyboardInterrupt\u001b[0m: "
     ]
    }
   ],
   "source": [
    "# activityQuery.awaitTermination()\n",
    "from time import sleep\n",
    "for x in range(5):\n",
    "    \n",
    "    spark.sql(\"SELECT * FROM label_counts\").show()\n",
    "    sleep(1000)"
   ]
  },
  {
   "cell_type": "code",
   "execution_count": null,
   "metadata": {},
   "outputs": [],
   "source": []
  }
 ],
 "metadata": {
  "kernelspec": {
   "display_name": "Python 3",
   "language": "python",
   "name": "python3"
  },
  "language_info": {
   "codemirror_mode": {
    "name": "ipython",
    "version": 3
   },
   "file_extension": ".py",
   "mimetype": "text/x-python",
   "name": "python",
   "nbconvert_exporter": "python",
   "pygments_lexer": "ipython3",
   "version": "3.7.7"
  }
 },
 "nbformat": 4,
 "nbformat_minor": 4
}
