{
 "cells": [
  {
   "cell_type": "code",
   "execution_count": 1,
   "metadata": {},
   "outputs": [],
   "source": [
    "import seaborn as sns\n",
    "from pyspark import SparkContext\n",
    "from pyspark.sql import SparkSession"
   ]
  },
  {
   "cell_type": "code",
   "execution_count": 2,
   "metadata": {},
   "outputs": [],
   "source": [
    "ss = SparkSession.Builder() \\\n",
    "     .appName(\"articles\") \\\n",
    "     .master(\"spark://spark-master:7077\") \\\n",
    "     .getOrCreate()"
   ]
  },
  {
   "cell_type": "code",
   "execution_count": 3,
   "metadata": {},
   "outputs": [],
   "source": [
    "df = ss.read.parquet(\"hdfs://namenode:9000/data/articles.parquet\")"
   ]
  },
  {
   "cell_type": "code",
   "execution_count": 4,
   "metadata": {},
   "outputs": [
    {
     "name": "stdout",
     "output_type": "stream",
     "text": [
      "+--------------------+--------------------+--------------------+--------------------+--------------+------------+--------------------+--------------------+--------------------+--------------------+--------+\n",
      "|                  id|               title|                sapo|                 url|        source|pega_cate_id|         title_token|          sapo_token|       content_token|           all_token|   label|\n",
      "+--------------------+--------------------+--------------------+--------------------+--------------+------------+--------------------+--------------------+--------------------+--------------------+--------+\n",
      "|6.366651292038185E17|Anh phát hiện 39 ...|Ngày 23/10, cảnh ...|http://vnmedia.vn...|    vnmedia.vn|         102|Anh phát_hiện 39 ...|Ngày 23/10 , cảnh...|Theo cảnh_sát địa...|anh phát_hiện    ...|Thế giới|\n",
      "|6.368640877043630...|Phát hiện két sắt...|Theo TASS ngày 23...|http://congan.com...| congan.com.vn|         102|Phát_hiện két sắt...|( CAO ) Theo TASS...|Theo điều_tra ban...|phát_hiện két sắt...|Thế giới|\n",
      "|6.370351636924579...|Máy bay rơi ở Mex...|Theo Sputnik ngày...|http://congan.com...| congan.com.vn|         102|Máy_bay rơi ở Mex...|( CAO ) Theo Sput...|Chiếc máy_bay đan...|máy_bay rơi ở mex...|Thế giới|\n",
      "| 6.37236419836928E17|Hình ảnh Đệ nhất ...|- Giữa lúc tin đồ...|http://vnmedia.vn...|    vnmedia.vn|         102|Hình_ảnh Đệ nhất ...|- Giữa lúc tin_đồ...|HÌnh_ảnh Đệ nhất ...|hình_ảnh đệ nhất ...|Thế giới|\n",
      "|6.380422542719959E17|Thủ lĩnh cao nhất...|​(CAO) Hôm 27-10,...|http://congan.com...| congan.com.vn|         102|Thủ_lĩnh cao nhất...|​ ( CAO ) Hôm 27-...|Các nguồn_tin ở S...|thủ_lĩnh cao nhất...|Thế giới|\n",
      "|6.383146015204556...|Nhóm người di cư ...|Theo Daily Mail n...|http://congan.com...| congan.com.vn|         102|Nhóm người di_cư ...|( CAO ) Theo Dail...|Cảnh_sát Pháp sau...|nhóm người di_cư ...|Thế giới|\n",
      "|6.384845724814131...|Quân đội Iraq ban...|Ngày 28/10, quân ...|http://baotintuc....|  baotintuc.vn|         102|Quân_đội Iraq ban...|Ngày 28/10 , quân...|Người biểu_tình t...|quân_đội iraq ban...|Thế giới|\n",
      "|6.385290400436305...|Chân dung \"Chị Bì...|Được gọi với cái ...|http://afamily.vn...|       AFamily|         102|Chân_dung \" Chị_B...|Được gọi với cái ...|39 thi_thể được p...|chân_dung   chị_b...|Thế giới|\n",
      "|6.385365374207508...|Cuộc sống khổ cực...|Khi Li Hua nộp 14...|http://danviet.vn...|    danviet.vn|         102|Cuộc_sống khổ_cực...|Khi Li_Hua nộp 14...|Trong số các nạn_...|cuộc_sống khổ_cực...|Thế giới|\n",
      "|6.385404403925893...|Tài xế container ...|Người lái xe cont...|https://vtc.vn/ta...|        vtc.vn|         102|Tài_xế container ...|( VTC News ) - Ng...|( VTC News ) - Ng...|tài_xế container ...|Thế giới|\n",
      "|6.385850645113978...|Một góc nhìn về t...|Luật sư Hoàng Duy...|https://nhandan.c...|nhandan.com.vn|         102|Một góc nhìn về t...|Luật_sư Hoàng_Duy...|Trong bài viết gử...|một góc nhìn về t...|Thế giới|\n",
      "|6.385851275895357...|Đảng cầm quyền ở ...|Roi-tơ dẫn thông ...|https://nhandan.c...|nhandan.com.vn|         102|Đảng cầm_quyền ở ...|Roi - tơ dẫn thôn...|Theo CNE , Tổng_t...|đảng cầm_quyền ở ...|Thế giới|\n",
      "|6.385851275937300...|  Cơ hội để thay đổi|Đợt biểu tình kéo...|https://nhandan.c...|nhandan.com.vn|         102|  Cơ_hội để thay_đổi|Đợt biểu_tình kéo...|Khởi_phát từ thủ_...|cơ_hội để thay_đổ...|Thế giới|\n",
      "|6.385851487288279E17|Cô-lôm-bi-a: Rơi ...|Không quân Cô-lôm...|https://nhandan.c...|nhandan.com.vn|         102|Cô - lôm - bi - a...|Không_quân Cô - l...|Trong thông_cáo ,...|cô   lôm   bi   a...|Thế giới|\n",
      "|6.385851487288279E17|Vì một châu lục k...|Những vụ tiến côn...|https://nhandan.c...|nhandan.com.vn|         102|Vì một châu_lục k...|Những vụ tiến_côn...|Trong bối_cảnh xu...|vì một châu_lục k...|Thế giới|\n",
      "|6.386141457978736...|[Video] Cháy rừng...|Cháy rừng tại ban...|https://www.vietn...|vietnamplus.vn|         102|[ Video ] Cháy rừ...|Cháy rừng tại ban...|Ngày 27/10 , cháy...|  video   cháy rừ...|Thế giới|\n",
      "|6.386148180357529...|Khung cảnh tan ho...|Cuộc săn lùng kẻ ...|https://www.vietn...|vietnamplus.vn|         102|Khung_cảnh tan_ho...|Cuộc săn_lùng kẻ ...|Cuộc săn_lùng kẻ ...|khung_cảnh tan_ho...|Thế giới|\n",
      "|6.386167924372521E17|[Video] Biểu tình...|Các cuộc biểu tìn...|https://www.vietn...|vietnamplus.vn|         102|[ Video ] Biểu_tì...|Các cuộc biểu_tìn...|Các cuộc biểu_tìn...|  video   biểu_tì...|Thế giới|\n",
      "|6.386198699574804...|Tổng thống Chile ...|Tổng thống Chile ...|https://www.vietn...|vietnamplus.vn|         102|Tổng_thống Chile_...|Tổng_thống Chile_...|Tổng_thống Chile_...|tổng_thống chile_...|Thế giới|\n",
      "|6.386205023830261...|Mượn tay người Ku...|Giới phân tích ch...|https://vtc.vn/mu...|        vtc.vn|         102|Mượn tay người Ku...|( VTC News ) - Gi...|( VTC News ) - Gi...|mượn tay người ku...|Thế giới|\n",
      "+--------------------+--------------------+--------------------+--------------------+--------------+------------+--------------------+--------------------+--------------------+--------------------+--------+\n",
      "only showing top 20 rows\n",
      "\n"
     ]
    }
   ],
   "source": [
    "df.show()"
   ]
  },
  {
   "cell_type": "code",
   "execution_count": 5,
   "metadata": {},
   "outputs": [],
   "source": [
    "df_new = df.drop('id', \n",
    "                'title', \n",
    "                'sapo',\n",
    "                'url',\n",
    "                'source',\n",
    "                'title_token',\n",
    "                'sapo_token',\n",
    "                'content_token')"
   ]
  },
  {
   "cell_type": "code",
   "execution_count": 6,
   "metadata": {},
   "outputs": [],
   "source": [
    "df_new = df_new.dropna()"
   ]
  },
  {
   "cell_type": "code",
   "execution_count": 7,
   "metadata": {
    "scrolled": true
   },
   "outputs": [
    {
     "name": "stdout",
     "output_type": "stream",
     "text": [
      "+------------+--------------------+--------+\n",
      "|pega_cate_id|           all_token|   label|\n",
      "+------------+--------------------+--------+\n",
      "|         102|anh phát_hiện    ...|Thế giới|\n",
      "|         102|phát_hiện két sắt...|Thế giới|\n",
      "|         102|máy_bay rơi ở mex...|Thế giới|\n",
      "|         102|hình_ảnh đệ nhất ...|Thế giới|\n",
      "|         102|thủ_lĩnh cao nhất...|Thế giới|\n",
      "+------------+--------------------+--------+\n",
      "only showing top 5 rows\n",
      "\n"
     ]
    }
   ],
   "source": [
    "df_new.show(5)"
   ]
  },
  {
   "cell_type": "markdown",
   "metadata": {},
   "source": [
    "**Tokenize text in all_token columns**"
   ]
  },
  {
   "cell_type": "code",
   "execution_count": 8,
   "metadata": {},
   "outputs": [],
   "source": [
    "from pyspark.ml.feature import Tokenizer, CountVectorizer\n",
    "tkn = Tokenizer().setInputCol(\"all_token\").setOutputCol(\"content_tokenized\")\n",
    "train_df = tkn.transform(df_new)\n",
    "# train_df = tokenized.drop('title_token', 'sapo_token', 'content_token')"
   ]
  },
  {
   "cell_type": "code",
   "execution_count": 9,
   "metadata": {
    "scrolled": true
   },
   "outputs": [
    {
     "name": "stdout",
     "output_type": "stream",
     "text": [
      "+------------+--------------------+--------+--------------------+\n",
      "|pega_cate_id|           all_token|   label|   content_tokenized|\n",
      "+------------+--------------------+--------+--------------------+\n",
      "|         102|anh phát_hiện    ...|Thế giới|[anh, phát_hiện, ...|\n",
      "|         102|phát_hiện két sắt...|Thế giới|[phát_hiện, két, ...|\n",
      "|         102|máy_bay rơi ở mex...|Thế giới|[máy_bay, rơi, ở,...|\n",
      "|         102|hình_ảnh đệ nhất ...|Thế giới|[hình_ảnh, đệ, nh...|\n",
      "|         102|thủ_lĩnh cao nhất...|Thế giới|[thủ_lĩnh, cao, n...|\n",
      "+------------+--------------------+--------+--------------------+\n",
      "only showing top 5 rows\n",
      "\n"
     ]
    }
   ],
   "source": [
    "train_df.show(5)"
   ]
  },
  {
   "cell_type": "markdown",
   "metadata": {},
   "source": [
    "**TF-IDF**"
   ]
  },
  {
   "cell_type": "code",
   "execution_count": 10,
   "metadata": {},
   "outputs": [],
   "source": [
    "from pyspark.ml.feature import HashingTF, IDF\n",
    "from pyspark.ml.feature import RegexTokenizer, StopWordsRemover, StringIndexer\n",
    "from pyspark.ml import Pipeline"
   ]
  },
  {
   "cell_type": "code",
   "execution_count": 11,
   "metadata": {},
   "outputs": [],
   "source": [
    "label_stringIdx = StringIndexer(inputCol = \"label\", outputCol = \"label_id\")\n",
    "hashingTF = HashingTF(inputCol=\"content_tokenized\", outputCol=\"rawFeatures\", numFeatures=10000)\n",
    "idf = IDF(inputCol=\"rawFeatures\", outputCol=\"features\", minDocFreq=5) #minDocFreq: remove sparse terms\n",
    "pipeline = Pipeline(stages=[hashingTF, idf, label_stringIdx])\n",
    "pipelineFit = pipeline.fit(train_df)\n",
    "dataset = pipelineFit.transform(train_df)"
   ]
  },
  {
   "cell_type": "code",
   "execution_count": 12,
   "metadata": {},
   "outputs": [],
   "source": [
    "dataset = dataset.withColumnRenamed(\"label\", \"label_name\")\n",
    "dataset = dataset.withColumnRenamed(\"label_id\", \"label\")\n"
   ]
  },
  {
   "cell_type": "code",
   "execution_count": 13,
   "metadata": {
    "scrolled": true
   },
   "outputs": [
    {
     "name": "stdout",
     "output_type": "stream",
     "text": [
      "+------------+--------------------+----------+--------------------+--------------------+--------------------+-----+\n",
      "|pega_cate_id|           all_token|label_name|   content_tokenized|         rawFeatures|            features|label|\n",
      "+------------+--------------------+----------+--------------------+--------------------+--------------------+-----+\n",
      "|         102|anh phát_hiện    ...|  Thế giới|[anh, phát_hiện, ...|(10000,[44,277,57...|(10000,[44,277,57...|  1.0|\n",
      "|         102|phát_hiện két sắt...|  Thế giới|[phát_hiện, két, ...|(10000,[54,63,250...|(10000,[54,63,250...|  1.0|\n",
      "|         102|máy_bay rơi ở mex...|  Thế giới|[máy_bay, rơi, ở,...|(10000,[63,378,49...|(10000,[63,378,49...|  1.0|\n",
      "|         102|hình_ảnh đệ nhất ...|  Thế giới|[hình_ảnh, đệ, nh...|(10000,[37,43,52,...|(10000,[37,43,52,...|  1.0|\n",
      "|         102|thủ_lĩnh cao nhất...|  Thế giới|[thủ_lĩnh, cao, n...|(10000,[63,70,133...|(10000,[63,70,133...|  1.0|\n",
      "+------------+--------------------+----------+--------------------+--------------------+--------------------+-----+\n",
      "only showing top 5 rows\n",
      "\n"
     ]
    }
   ],
   "source": [
    "dataset.show(5)"
   ]
  },
  {
   "cell_type": "code",
   "execution_count": null,
   "metadata": {},
   "outputs": [],
   "source": []
  },
  {
   "cell_type": "code",
   "execution_count": 14,
   "metadata": {},
   "outputs": [],
   "source": [
    "df_train, df_test = dataset.randomSplit([0.8, 0.2])"
   ]
  },
  {
   "cell_type": "code",
   "execution_count": 15,
   "metadata": {},
   "outputs": [],
   "source": [
    "from pyspark.ml.classification import RandomForestClassifier\n",
    "from pyspark.ml.classification import LogisticRegression\n",
    "from pyspark.ml.evaluation import MulticlassClassificationEvaluator"
   ]
  },
  {
   "cell_type": "code",
   "execution_count": 16,
   "metadata": {},
   "outputs": [],
   "source": [
    "evaluator = MulticlassClassificationEvaluator(labelCol='label', \n",
    "                                          metricName='accuracy')"
   ]
  },
  {
   "cell_type": "code",
   "execution_count": 17,
   "metadata": {},
   "outputs": [],
   "source": [
    "lr = LogisticRegression(regParam=0.3, elasticNetParam=0)\n",
    "lrModel = lr.fit(df_train)\n",
    "pred = lrModel.transform(df_test)\n"
   ]
  },
  {
   "cell_type": "code",
   "execution_count": 18,
   "metadata": {},
   "outputs": [
    {
     "data": {
      "text/plain": [
       "0.821733459805549"
      ]
     },
     "execution_count": 18,
     "metadata": {},
     "output_type": "execute_result"
    }
   ],
   "source": [
    "evaluator.evaluate(pred)"
   ]
  },
  {
   "cell_type": "code",
   "execution_count": null,
   "metadata": {},
   "outputs": [],
   "source": []
  }
 ],
 "metadata": {
  "kernelspec": {
   "display_name": "Python 3",
   "language": "python",
   "name": "python3"
  },
  "language_info": {
   "codemirror_mode": {
    "name": "ipython",
    "version": 3
   },
   "file_extension": ".py",
   "mimetype": "text/x-python",
   "name": "python",
   "nbconvert_exporter": "python",
   "pygments_lexer": "ipython3",
   "version": "3.7.6"
  }
 },
 "nbformat": 4,
 "nbformat_minor": 4
}
